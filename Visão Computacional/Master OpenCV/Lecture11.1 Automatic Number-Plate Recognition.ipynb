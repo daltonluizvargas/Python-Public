{
 "cells": [
  {
   "cell_type": "markdown",
   "metadata": {},
   "source": [
    "## Automatic Number-Plate Recognition\n",
    "Using PyTesseract OCR Reader"
   ]
  },
  {
   "cell_type": "markdown",
   "metadata": {},
   "source": [
    "pytesseract.pytesseract.tesseract_cmd = r\"C:\\Program Files (x86)\\Tesseract-OCR\\tesseract.exe\"#### Let's experiment with PyTesseract"
   ]
  },
  {
   "cell_type": "code",
   "execution_count": 1,
   "metadata": {},
   "outputs": [
    {
     "name": "stdout",
     "output_type": "stream",
     "text": [
      "PyTesseract Detected the following text:  MHO1AY8866)\n"
     ]
    }
   ],
   "source": [
    "import numpy as np\n",
    "import cv2\n",
    "from copy import deepcopy\n",
    "from PIL import Image\n",
    "import pytesseract as tess\n",
    "\n",
    "img = cv2.imread('images/car3.jpg')\n",
    "cv2.imshow(\"Test Image\", img)\n",
    "cv2.waitKey(0)\n",
    "cv2.destroyAllWindows()\n",
    "test_image = Image.fromarray(img)\n",
    "text = tess.image_to_string(test_image, lang='eng')\n",
    "print(\"PyTesseract Detected the following text: \", text)"
   ]
  },
  {
   "cell_type": "markdown",
   "metadata": {},
   "source": [
    "### Let's build our ANPR System"
   ]
  },
  {
   "cell_type": "code",
   "execution_count": 3,
   "metadata": {
    "scrolled": true
   },
   "outputs": [
    {
     "name": "stdout",
     "output_type": "stream",
     "text": [
      "DETECTING PLATE . . .\n"
     ]
    },
    {
     "ename": "ValueError",
     "evalue": "too many values to unpack (expected 2)",
     "output_type": "error",
     "traceback": [
      "\u001b[1;31m---------------------------------------------------------------------------\u001b[0m",
      "\u001b[1;31mValueError\u001b[0m                                Traceback (most recent call last)",
      "\u001b[1;32m<ipython-input-3-69be7ea65730>\u001b[0m in \u001b[0;36m<module>\u001b[1;34m()\u001b[0m\n\u001b[0;32m    140\u001b[0m     \u001b[0mimg\u001b[0m \u001b[1;33m=\u001b[0m \u001b[0mcv2\u001b[0m\u001b[1;33m.\u001b[0m\u001b[0mimread\u001b[0m\u001b[1;33m(\u001b[0m\u001b[1;34m\"./images/car3.jpg\"\u001b[0m\u001b[1;33m)\u001b[0m\u001b[1;33m\u001b[0m\u001b[0m\n\u001b[0;32m    141\u001b[0m     \u001b[0mthreshold_img\u001b[0m \u001b[1;33m=\u001b[0m \u001b[0mpreprocess\u001b[0m\u001b[1;33m(\u001b[0m\u001b[0mimg\u001b[0m\u001b[1;33m)\u001b[0m\u001b[1;33m\u001b[0m\u001b[0m\n\u001b[1;32m--> 142\u001b[1;33m     \u001b[0mcontours\u001b[0m\u001b[1;33m=\u001b[0m \u001b[0mextract_contours\u001b[0m\u001b[1;33m(\u001b[0m\u001b[0mthreshold_img\u001b[0m\u001b[1;33m)\u001b[0m\u001b[1;33m\u001b[0m\u001b[0m\n\u001b[0m\u001b[0;32m    143\u001b[0m     \u001b[0mcleanAndRead\u001b[0m\u001b[1;33m(\u001b[0m\u001b[0mimg\u001b[0m\u001b[1;33m,\u001b[0m\u001b[0mcontours\u001b[0m\u001b[1;33m)\u001b[0m\u001b[1;33m\u001b[0m\u001b[0m\n\u001b[0;32m    144\u001b[0m     \u001b[0mcv2\u001b[0m\u001b[1;33m.\u001b[0m\u001b[0mdestroyAllWindows\u001b[0m\u001b[1;33m(\u001b[0m\u001b[1;33m)\u001b[0m\u001b[1;33m\u001b[0m\u001b[0m\n",
      "\u001b[1;32m<ipython-input-3-69be7ea65730>\u001b[0m in \u001b[0;36mextract_contours\u001b[1;34m(threshold_img)\u001b[0m\n\u001b[0;32m     56\u001b[0m     \u001b[0mcv2\u001b[0m\u001b[1;33m.\u001b[0m\u001b[0mwaitKey\u001b[0m\u001b[1;33m(\u001b[0m\u001b[1;36m0\u001b[0m\u001b[1;33m)\u001b[0m\u001b[1;33m\u001b[0m\u001b[0m\n\u001b[0;32m     57\u001b[0m \u001b[1;33m\u001b[0m\u001b[0m\n\u001b[1;32m---> 58\u001b[1;33m     \u001b[0mcontours\u001b[0m\u001b[1;33m,\u001b[0m \u001b[0mhierarchy\u001b[0m\u001b[1;33m=\u001b[0m \u001b[0mcv2\u001b[0m\u001b[1;33m.\u001b[0m\u001b[0mfindContours\u001b[0m\u001b[1;33m(\u001b[0m\u001b[0mmorph_img_threshold\u001b[0m\u001b[1;33m,\u001b[0m\u001b[0mmode\u001b[0m\u001b[1;33m=\u001b[0m\u001b[0mcv2\u001b[0m\u001b[1;33m.\u001b[0m\u001b[0mRETR_EXTERNAL\u001b[0m\u001b[1;33m,\u001b[0m\u001b[0mmethod\u001b[0m\u001b[1;33m=\u001b[0m\u001b[0mcv2\u001b[0m\u001b[1;33m.\u001b[0m\u001b[0mCHAIN_APPROX_NONE\u001b[0m\u001b[1;33m)\u001b[0m\u001b[1;33m\u001b[0m\u001b[0m\n\u001b[0m\u001b[0;32m     59\u001b[0m     \u001b[1;32mreturn\u001b[0m \u001b[0mcontours\u001b[0m\u001b[1;33m\u001b[0m\u001b[0m\n\u001b[0;32m     60\u001b[0m \u001b[1;33m\u001b[0m\u001b[0m\n",
      "\u001b[1;31mValueError\u001b[0m: too many values to unpack (expected 2)"
     ]
    }
   ],
   "source": [
    "import numpy as np\n",
    "import cv2\n",
    "from copy import deepcopy\n",
    "from PIL import Image\n",
    "import pytesseract as tess\n",
    "\n",
    "def preprocess(img):\n",
    "    \"\"\"This function takes an image, applies blurring, uses sobel\n",
    "    to get horizontal lines. It then returns the binarized image\"\"\"\n",
    "    cv2.imshow(\"Input\",img)\n",
    "    imgBlurred = cv2.GaussianBlur(img, (5,5), 0)\n",
    "    gray = cv2.cvtColor(imgBlurred, cv2.COLOR_BGR2GRAY)\n",
    "\n",
    "    sobelx = cv2.Sobel(gray,cv2.CV_8U,1,0,ksize=3)\n",
    "    cv2.imshow(\"Sobel\",sobelx)\n",
    "    cv2.waitKey(0)\n",
    "    ret2,threshold_img = cv2.threshold(sobelx,0,255,cv2.THRESH_BINARY+cv2.THRESH_OTSU)\n",
    "    cv2.imshow(\"Threshold\",threshold_img)\n",
    "    cv2.waitKey(0)\n",
    "    return threshold_img\n",
    "\n",
    "def cleanPlate(plate):\n",
    "    \"\"\"This function gets the countours that most likely resemeber the shape\n",
    "    of a license plate\"\"\"    \n",
    "    gray = cv2.cvtColor(plate, cv2.COLOR_BGR2GRAY)\n",
    "    kernel = cv2.getStructuringElement(cv2.MORPH_CROSS, (3, 3))\n",
    "    thresh = cv2.dilate(gray, kernel, iterations = 1)\n",
    "\n",
    "    _, thresh = cv2.threshold(gray, 150, 255, cv2.THRESH_BINARY)\n",
    "    contours, hierarchy = cv2.findContours(thresh.copy(),cv2.RETR_EXTERNAL, cv2.CHAIN_APPROX_NONE)\n",
    "\n",
    "    if contours:\n",
    "        areas = [cv2.contourArea(c) for c in contours]\n",
    "        max_index = np.argmax(areas)\n",
    "\n",
    "        max_cnt = contours[max_index]\n",
    "        max_cntArea = areas[max_index]\n",
    "        x,y,w,h = cv2.boundingRect(max_cnt)\n",
    "\n",
    "        if not ratioCheck(max_cntArea,w,h):\n",
    "            return plate,None\n",
    "\n",
    "        cleaned_final = thresh[y:y+h, x:x+w]\n",
    "        cv2.imshow(\"Function Test\", cleaned_final)\n",
    "        return cleaned_final,[x,y,w,h]\n",
    "\n",
    "    else:\n",
    "        return plate, None\n",
    "\n",
    "def extract_contours(threshold_img):\n",
    "    \"\"\"This function returns the extracted contours\"\"\"\n",
    "    element = cv2.getStructuringElement(shape=cv2.MORPH_RECT, ksize=(17, 3))\n",
    "    morph_img_threshold = threshold_img.copy()\n",
    "    cv2.morphologyEx(src=threshold_img, op=cv2.MORPH_CLOSE, kernel=element, dst=morph_img_threshold)\n",
    "    cv2.imshow(\"Morphed\", morph_img_threshold)\n",
    "    cv2.waitKey(0)\n",
    "\n",
    "    contours, hierarchy= cv2.findContours(morph_img_threshold,mode=cv2.RETR_EXTERNAL,method=cv2.CHAIN_APPROX_NONE)\n",
    "    return contours\n",
    "\n",
    "\n",
    "def ratioCheck(area, width, height):\n",
    "    \"\"\"This function inspects the ratio of the contour to ensure it meets the requirements \n",
    "    suitable to a real license plate\"\"\"\n",
    "    ratio = float(width) / float(height)\n",
    "    if ratio < 1:\n",
    "        ratio = 1 / ratio\n",
    "\n",
    "    aspect = 4.7272\n",
    "    min = 15 * aspect * 15  # minimum area\n",
    "    max = 125 *aspect * 125  # maximum area\n",
    "\n",
    "    rmin = 3\n",
    "    rmax = 6\n",
    "\n",
    "    if (area < min or area > max) or (ratio < rmin or ratio > rmax):\n",
    "        return False\n",
    "    return True\n",
    "\n",
    "def isMaxWhite(plate):\n",
    "    \"\"\"Checks the average color of the potential plate and if there is more\n",
    "    white than black colors it returns true\"\"\"\n",
    "    avg = np.mean(plate)\n",
    "    if(avg>=115):\n",
    "        return True\n",
    "    else:\n",
    "        return False\n",
    "\n",
    "def validateRotationAndRatio(rect):\n",
    "    \"\"\"Checks the angle of the rectangle potential license plate\"\"\"\n",
    "    (x, y), (width, height), rect_angle = rect\n",
    "\n",
    "    if(width>height):\n",
    "        angle = -rect_angle\n",
    "    else:\n",
    "        angle = 90 + rect_angle\n",
    "\n",
    "    if angle>15:\n",
    "        return False\n",
    "\n",
    "    if height == 0 or width == 0:\n",
    "        return False\n",
    "\n",
    "    area = height*width\n",
    "    if not ratioCheck(area,width,height):\n",
    "        return False\n",
    "    else:\n",
    "        return True\n",
    "\n",
    "def cleanAndRead(img,contours):\n",
    "    \"\"\"Takes the extracted contours and once it passes the rotation\n",
    "    and ratio checks it passes the potential license plate to PyTesseract for OCR reading\"\"\"\n",
    "    for i,cnt in enumerate(contours):\n",
    "        min_rect = cv2.minAreaRect(cnt)\n",
    "\n",
    "        if validateRotationAndRatio(min_rect):\n",
    "\n",
    "            x,y,w,h = cv2.boundingRect(cnt)\n",
    "            plate_img = img[y:y+h,x:x+w]\n",
    "\n",
    "            if(isMaxWhite(plate_img)):\n",
    "                clean_plate, rect = cleanPlate(plate_img)\n",
    "                \n",
    "                if rect:\n",
    "                    x1,y1,w1,h1 = rect\n",
    "                    x,y,w,h = x+x1,y+y1,w1,h1\n",
    "                    cv2.imshow(\"Cleaned Plate\", clean_plate)\n",
    "                    cv2.waitKey(0)\n",
    "                    plate_im = Image.fromarray(clean_plate)\n",
    "                    text = tess.image_to_string(plate_im, lang='eng')\n",
    "                    print(\"Detected Text : \", text)\n",
    "                    img = cv2.rectangle(img,(x,y),(x+w,y+h),(0,255,0),2)\n",
    "                    cv2.imshow(\"Detected Plate\", img)\n",
    "                    cv2.waitKey(0)\n",
    "\n",
    "if __name__ == '__main__':\n",
    "    print(\"DETECTING PLATE . . .\")\n",
    "\n",
    "    # Path to the license plate you wish to read\n",
    "    img = cv2.imread(\"./images/car3.jpg\")\n",
    "    threshold_img = preprocess(img)\n",
    "    contours= extract_contours(threshold_img)\n",
    "    cleanAndRead(img,contours)\n",
    "    cv2.destroyAllWindows()"
   ]
  },
  {
   "cell_type": "code",
   "execution_count": null,
   "metadata": {},
   "outputs": [],
   "source": []
  }
 ],
 "metadata": {
  "kernelspec": {
   "display_name": "Python 3",
   "language": "python",
   "name": "python3"
  },
  "language_info": {
   "codemirror_mode": {
    "name": "ipython",
    "version": 3
   },
   "file_extension": ".py",
   "mimetype": "text/x-python",
   "name": "python",
   "nbconvert_exporter": "python",
   "pygments_lexer": "ipython3",
   "version": "3.6.5"
  }
 },
 "nbformat": 4,
 "nbformat_minor": 2
}
